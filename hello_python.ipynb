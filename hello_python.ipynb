{
 "cells": [
  {
   "cell_type": "markdown",
   "id": "4422f762",
   "metadata": {},
   "source": [
    "# Hello Python - Exercises for Sehar"
   ]
  },
  {
   "cell_type": "code",
   "execution_count": null,
   "id": "015a9538",
   "metadata": {},
   "outputs": [],
   "source": [
    "# Exercise 1: Print a message\n",
    "print(\"Hello, Python!\")"
   ]
  },
  {
   "cell_type": "code",
   "execution_count": null,
   "id": "683844cd",
   "metadata": {},
   "outputs": [],
   "source": [
    "# Exercise 2: Simple math\n",
    "a = 5\n",
    "b = 7\n",
    "print(\"The sum is:\", a + b)"
   ]
  },
  {
   "cell_type": "code",
   "execution_count": null,
   "id": "655b3530",
   "metadata": {},
   "outputs": [],
   "source": [
    "# Exercise 3: Variables\n",
    "name = \"Sehar\"\n",
    "print(\"My name is\", name)"
   ]
  },
  {
   "cell_type": "code",
   "execution_count": null,
   "id": "52f24316",
   "metadata": {},
   "outputs": [],
   "source": [
    "# Exercise 4: Lists\n",
    "fruits = [\"apple\", \"banana\", \"cherry\"]\n",
    "print(\"My favorite fruits:\", fruits)"
   ]
  },
  {
   "cell_type": "code",
   "execution_count": null,
   "id": "e04c79a4",
   "metadata": {},
   "outputs": [],
   "source": [
    "# Exercise 5: Loop\n",
    "for i in range(3):\n",
    "    print(\"Loop number:\", i)"
   ]
  },
  {
   "cell_type": "code",
   "execution_count": null,
   "id": "866620a5",
   "metadata": {},
   "outputs": [],
   "source": [
    "# Exercise 6: Functions\n",
    "def square(x):\n",
    "    return x * x\n",
    "\n",
    "print(\"Square of 4 is:\", square(4))"
   ]
  }
 ],
 "metadata": {},
 "nbformat": 4,
 "nbformat_minor": 5
}